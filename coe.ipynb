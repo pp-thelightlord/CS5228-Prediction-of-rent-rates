{
 "cells": [
  {
   "cell_type": "code",
   "execution_count": 255,
   "metadata": {},
   "outputs": [],
   "source": [
    "import pandas as pd\n",
    "import numpy as np\n",
    "\n",
    "rent_data = pd.read_csv(\"./Datasets/train.csv\")\n",
    "coe_data = pd.read_csv(\"./Datasets/auxiliary-data/sg-coe-prices.csv\")"
   ]
  },
  {
   "cell_type": "code",
   "execution_count": 256,
   "metadata": {},
   "outputs": [
    {
     "data": {
      "text/html": [
       "<div>\n",
       "<style scoped>\n",
       "    .dataframe tbody tr th:only-of-type {\n",
       "        vertical-align: middle;\n",
       "    }\n",
       "\n",
       "    .dataframe tbody tr th {\n",
       "        vertical-align: top;\n",
       "    }\n",
       "\n",
       "    .dataframe thead th {\n",
       "        text-align: right;\n",
       "    }\n",
       "</style>\n",
       "<table border=\"1\" class=\"dataframe\">\n",
       "  <thead>\n",
       "    <tr style=\"text-align: right;\">\n",
       "      <th></th>\n",
       "      <th>year</th>\n",
       "      <th>month_num</th>\n",
       "      <th>price</th>\n",
       "      <th>monthly_rent</th>\n",
       "      <th>quota</th>\n",
       "      <th>bids</th>\n",
       "    </tr>\n",
       "  </thead>\n",
       "  <tbody>\n",
       "    <tr>\n",
       "      <th>0</th>\n",
       "      <td>2021</td>\n",
       "      <td>1</td>\n",
       "      <td>92.268049</td>\n",
       "      <td>2152.142513</td>\n",
       "      <td>707.000</td>\n",
       "      <td>1017.000</td>\n",
       "    </tr>\n",
       "    <tr>\n",
       "      <th>1</th>\n",
       "      <td>2021</td>\n",
       "      <td>2</td>\n",
       "      <td>90.343569</td>\n",
       "      <td>2146.756152</td>\n",
       "      <td>601.500</td>\n",
       "      <td>808.875</td>\n",
       "    </tr>\n",
       "    <tr>\n",
       "      <th>2</th>\n",
       "      <td>2021</td>\n",
       "      <td>3</td>\n",
       "      <td>84.096755</td>\n",
       "      <td>2167.458384</td>\n",
       "      <td>600.250</td>\n",
       "      <td>821.375</td>\n",
       "    </tr>\n",
       "    <tr>\n",
       "      <th>3</th>\n",
       "      <td>2021</td>\n",
       "      <td>4</td>\n",
       "      <td>127.999299</td>\n",
       "      <td>2182.674772</td>\n",
       "      <td>601.375</td>\n",
       "      <td>976.000</td>\n",
       "    </tr>\n",
       "    <tr>\n",
       "      <th>4</th>\n",
       "      <td>2021</td>\n",
       "      <td>5</td>\n",
       "      <td>142.233583</td>\n",
       "      <td>2216.537301</td>\n",
       "      <td>519.750</td>\n",
       "      <td>750.625</td>\n",
       "    </tr>\n",
       "  </tbody>\n",
       "</table>\n",
       "</div>"
      ],
      "text/plain": [
       "   year  month_num       price  monthly_rent    quota      bids\n",
       "0  2021          1   92.268049   2152.142513  707.000  1017.000\n",
       "1  2021          2   90.343569   2146.756152  601.500   808.875\n",
       "2  2021          3   84.096755   2167.458384  600.250   821.375\n",
       "3  2021          4  127.999299   2182.674772  601.375   976.000\n",
       "4  2021          5  142.233583   2216.537301  519.750   750.625"
      ]
     },
     "execution_count": 256,
     "metadata": {},
     "output_type": "execute_result"
    }
   ],
   "source": [
    "# Convert month names in coe_data to month numbers for easier merging\n",
    "month_map = {\n",
    "    \"january\": 1, \"february\": 2, \"march\": 3, \"april\": 4, \"may\": 5, \"june\": 6,\n",
    "    \"july\": 7, \"august\": 8, \"september\": 9, \"october\": 10, \"november\": 11, \"december\": 12\n",
    "}\n",
    "coe_data[\"month_num\"] = coe_data[\"month\"].map(month_map)\n",
    "\n",
    "# Calculate average COE prices per month\n",
    "avg_coe_prices = coe_data.groupby([\"year\", \"month_num\"])[\"price\"].mean().reset_index()\n",
    "avg_coe_quota = coe_data.groupby([\"year\", \"month_num\"])[\"quota\"].mean().reset_index()\n",
    "avg_coe_bids = coe_data.groupby([\"year\", \"month_num\"])[\"bids\"].mean().reset_index()\n",
    "\n",
    "avg_coe_prices[\"price\"] =  np.power(avg_coe_prices[\"price\"]/10000, 3) #- np.log2(avg_coe_prices[\"price\"]/100)*10000\n",
    "# Extract year and month from rent_approval_date in rent_data\n",
    "rent_data[\"year\"] = pd.to_datetime(rent_data[\"rent_approval_date\"]).dt.year\n",
    "rent_data[\"month_num\"] = pd.to_datetime(rent_data[\"rent_approval_date\"]).dt.month\n",
    "\n",
    "# Calculate average rent prices per month\n",
    "avg_rent_prices = rent_data.groupby([\"year\", \"month_num\"])[\"monthly_rent\"].mean().reset_index()\n",
    "\n",
    "# 合并 avg_coe_prices 和 avg_rent_prices\n",
    "merged_data = pd.merge(avg_coe_prices, avg_rent_prices, on=[\"year\", \"month_num\"], how=\"inner\")\n",
    "\n",
    "# 再合并 avg_coe_quota\n",
    "merged_data = pd.merge(merged_data, avg_coe_quota, on=[\"year\", \"month_num\"], how=\"inner\")\n",
    "\n",
    "# 最后合并 avg_coe_bids\n",
    "merged_data = pd.merge(merged_data, avg_coe_bids, on=[\"year\", \"month_num\"], how=\"inner\")\n",
    "\n",
    "\n",
    "merged_data.head()"
   ]
  },
  {
   "cell_type": "code",
   "execution_count": 257,
   "metadata": {},
   "outputs": [
    {
     "data": {
      "image/png": "[encoded data removed]",
      "text/plain": [
       "<Figure size 720x432 with 1 Axes>"
      ]
     },
     "metadata": {
      "needs_background": "light"
     },
     "output_type": "display_data"
    }
   ],
   "source": [
    "import matplotlib.pyplot as plt\n",
    "\n",
    "# Scatter plot of COE prices vs. Monthly rent\n",
    "plt.figure(figsize=(10, 6))\n",
    "plt.scatter(merged_data[\"price\"], merged_data[\"monthly_rent\"], color='blue')\n",
    "plt.title(\"Relationship between COE Prices and Monthly Rent\")\n",
    "plt.xlabel(\"Average COE Price\")\n",
    "plt.ylabel(\"Average Monthly Rent\")\n",
    "plt.grid(True)\n",
    "plt.show()"
   ]
  },
  {
   "cell_type": "code",
   "execution_count": 258,
   "metadata": {},
   "outputs": [
    {
     "data": {
      "text/plain": [
       "(0.983252733248948, 5.407812753492799e-23)"
      ]
     },
     "execution_count": 258,
     "metadata": {},
     "output_type": "execute_result"
    },
    {
     "data": {
      "image/png": "[encoded data removed]",
      "text/plain": [
       "<Figure size 720x432 with 1 Axes>"
      ]
     },
     "metadata": {
      "needs_background": "light"
     },
     "output_type": "display_data"
    }
   ],
   "source": [
    "import matplotlib.pyplot as plt\n",
    "import seaborn as sns\n",
    "from scipy.stats import pearsonr\n",
    "\n",
    "# Plotting\n",
    "plt.figure(figsize=(10, 6))\n",
    "sns.scatterplot(data=merged_data, x='monthly_rent', y='price')\n",
    "plt.title('Scatterplot of Average Monthly Rent vs COE Price')\n",
    "plt.xlabel('Average Monthly Rent')\n",
    "plt.ylabel('Average COE Price')\n",
    "plt.grid(True)\n",
    "\n",
    "# Calculate Pearson correlation coefficient\n",
    "correlation_coefficient, p_value = pearsonr(merged_data['monthly_rent'], merged_data['price'])\n",
    "\n",
    "correlation_coefficient, p_value"
   ]
  },
  {
   "cell_type": "code",
   "execution_count": 260,
   "metadata": {},
   "outputs": [
    {
     "ename": "",
     "evalue": "",
     "output_type": "error",
     "traceback": [
      "\u001b[1;31m在当前单元格或上一个单元格中执行代码时 Kernel 崩溃。请查看单元格中的代码，以确定故障的可能原因。有关详细信息，请单击 <a href='https://aka.ms/vscodeJupyterKernelCrash'>此处</a>。有关更多详细信息，请查看 Jupyter <a href='command:jupyter.viewOutput'>log</a>。"
     ]
    }
   ],
   "source": [
    "coe_path = './Datasets/train.csv'\n",
    "coe_df = pd.read_csv(coe_path)\n",
    "\n",
    "# coe_df['rent_approval_date'] = pd.to_datetime(coe_df['rent_approval_date'])\n",
    "# coe_df['year_month'] = coe_df['rent_approval_date'].dt.to_period('M')\n",
    "\n",
    "coe_df[\"year\"] = pd.to_datetime(coe_df[\"rent_approval_date\"]).dt.year\n",
    "coe_df[\"month_num\"] = pd.to_datetime(coe_df[\"rent_approval_date\"]).dt.month\n",
    "coe_df = coe_df.merge(merged_data, on=[\"year\", \"month_num\"], how='left')\n",
    "\n",
    "coe_df = coe_df.rename(columns={'price': 'coe'})\n",
    "coe_df = coe_df[['coe']]\n",
    "coe_df.to_csv('./Datasets/coe_train.csv', index=False)"
   ]
  }
 ],
 "metadata": {
  "kernelspec": {
   "display_name": "deeplearning",
   "language": "python",
   "name": "python3"
  },
  "language_info": {
   "codemirror_mode": {
    "name": "ipython",
    "version": 3
   },
   "file_extension": ".py",
   "mimetype": "text/x-python",
   "name": "python",
   "nbconvert_exporter": "python",
   "pygments_lexer": "ipython3",
   "version": "3.8.12"
  }
 },
 "nbformat": 4,
 "nbformat_minor": 2
}
